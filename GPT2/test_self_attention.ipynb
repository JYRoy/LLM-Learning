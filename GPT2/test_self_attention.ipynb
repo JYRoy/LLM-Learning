{
 "cells": [
  {
   "cell_type": "code",
   "execution_count": 15,
   "metadata": {},
   "outputs": [
    {
     "data": {
      "text/plain": [
       "tensor([[[-1.2262, -0.0093],\n",
       "         [ 1.5420, -0.4657],\n",
       "         [ 0.2795, -0.2610],\n",
       "         [ 0.6230, -1.1561],\n",
       "         [ 0.1171, -1.8865],\n",
       "         [ 2.1822, -0.1930],\n",
       "         [ 0.5358, -0.8898],\n",
       "         [-0.3099,  0.7741]],\n",
       "\n",
       "        [[ 0.1236, -2.1807],\n",
       "         [ 0.3700,  0.4144],\n",
       "         [ 1.8567,  1.9776],\n",
       "         [-0.4322,  1.3667],\n",
       "         [ 0.8432, -0.0421],\n",
       "         [ 1.6579, -1.3085],\n",
       "         [ 0.9962,  0.9391],\n",
       "         [ 1.4148,  0.6343]],\n",
       "\n",
       "        [[ 2.7266, -1.4753],\n",
       "         [-1.4808,  0.0498],\n",
       "         [ 1.2883, -0.6491],\n",
       "         [-0.8969,  1.2634],\n",
       "         [ 0.8273,  0.4594],\n",
       "         [ 0.3922, -1.0767],\n",
       "         [-0.0576, -0.0596],\n",
       "         [ 0.2764, -0.2403]],\n",
       "\n",
       "        [[ 0.7203, -1.4108],\n",
       "         [-0.4384,  0.3551],\n",
       "         [ 0.3730, -1.3050],\n",
       "         [-0.7983,  1.0442],\n",
       "         [-0.1227,  0.4022],\n",
       "         [-1.4295, -0.5656],\n",
       "         [ 0.6971,  0.1258],\n",
       "         [-0.0434,  0.5366]]])"
      ]
     },
     "execution_count": 15,
     "metadata": {},
     "output_type": "execute_result"
    }
   ],
   "source": [
    "import torch\n",
    "\n",
    "torch.manual_seed(2024)\n",
    "B, T, C = 4, 8, 2  # Batch size, sequence length (or time), embedding size (or channels)\n",
    "x = torch.randn(B, T, C)\n",
    "x"
   ]
  },
  {
   "cell_type": "code",
   "execution_count": 45,
   "metadata": {},
   "outputs": [
    {
     "data": {
      "text/plain": [
       "tensor([[-1.2262, -0.0093],\n",
       "        [ 1.5420, -0.4657],\n",
       "        [ 0.2795, -0.2610],\n",
       "        [ 0.6230, -1.1561],\n",
       "        [ 0.1171, -1.8865],\n",
       "        [ 2.1822, -0.1930],\n",
       "        [ 0.5358, -0.8898],\n",
       "        [-0.3099,  0.7741]])"
      ]
     },
     "execution_count": 45,
     "metadata": {},
     "output_type": "execute_result"
    }
   ],
   "source": [
    "# version 1\n",
    "xbow = torch.zeros((B, T, C))\n",
    "for b in range(B):\n",
    "    for t in range(T):\n",
    "        xprev = x[b,:t+1]  # (t, C)\n",
    "        xbow[b, t] = torch.mean(xprev, 0)  # (2)\n",
    "\n",
    "x[0]"
   ]
  },
  {
   "cell_type": "code",
   "execution_count": 26,
   "metadata": {},
   "outputs": [
    {
     "data": {
      "text/plain": [
       "tensor([[-1.2262, -0.0093],\n",
       "        [ 0.1579, -0.2375],\n",
       "        [ 0.1984, -0.2453],\n",
       "        [ 0.3045, -0.4730],\n",
       "        [ 0.2671, -0.7557],\n",
       "        [ 0.5862, -0.6619],\n",
       "        [ 0.5790, -0.6945],\n",
       "        [ 0.4679, -0.5109]])"
      ]
     },
     "execution_count": 26,
     "metadata": {},
     "output_type": "execute_result"
    }
   ],
   "source": [
    "xbow[0]"
   ]
  },
  {
   "cell_type": "code",
   "execution_count": 30,
   "metadata": {},
   "outputs": [
    {
     "name": "stdout",
     "output_type": "stream",
     "text": [
      "a=\n",
      "tensor([[1., 1., 1.],\n",
      "        [1., 1., 1.],\n",
      "        [1., 1., 1.]])\n",
      "----\n",
      "b=\n",
      "tensor([[2., 7.],\n",
      "        [6., 4.],\n",
      "        [6., 5.]])\n",
      "----\n",
      "c=\n",
      "tensor([[14., 16.],\n",
      "        [14., 16.],\n",
      "        [14., 16.]])\n"
     ]
    }
   ],
   "source": [
    "torch.manual_seed(42)\n",
    "a = torch.ones(3, 3)\n",
    "b = torch.randint(0, 10, (3, 2)).float()\n",
    "c = a @ b\n",
    "print(\"a=\")\n",
    "print(a)\n",
    "print(\"----\")\n",
    "print(\"b=\")\n",
    "print(b)\n",
    "print(\"----\")\n",
    "print(\"c=\")\n",
    "print(c)"
   ]
  },
  {
   "cell_type": "code",
   "execution_count": 31,
   "metadata": {},
   "outputs": [
    {
     "name": "stdout",
     "output_type": "stream",
     "text": [
      "a=\n",
      "tensor([[1., 0., 0.],\n",
      "        [1., 1., 0.],\n",
      "        [1., 1., 1.]])\n",
      "----\n",
      "b=\n",
      "tensor([[2., 7.],\n",
      "        [6., 4.],\n",
      "        [6., 5.]])\n",
      "----\n",
      "c=\n",
      "tensor([[ 2.,  7.],\n",
      "        [ 8., 11.],\n",
      "        [14., 16.]])\n"
     ]
    }
   ],
   "source": [
    "torch.manual_seed(42)\n",
    "a = torch.tril(torch.ones(3, 3))\n",
    "b = torch.randint(0, 10, (3, 2)).float()\n",
    "c = a @ b\n",
    "print(\"a=\")\n",
    "print(a)\n",
    "print(\"----\")\n",
    "print(\"b=\")\n",
    "print(b)\n",
    "print(\"----\")\n",
    "print(\"c=\")\n",
    "print(c)"
   ]
  },
  {
   "cell_type": "code",
   "execution_count": 37,
   "metadata": {},
   "outputs": [
    {
     "name": "stdout",
     "output_type": "stream",
     "text": [
      "a=\n",
      "tensor([[1.0000, 0.0000, 0.0000],\n",
      "        [0.5000, 0.5000, 0.0000],\n",
      "        [0.3333, 0.3333, 0.3333]])\n",
      "----\n",
      "b=\n",
      "tensor([[2., 7.],\n",
      "        [6., 4.],\n",
      "        [6., 5.]])\n",
      "----\n",
      "c=\n",
      "tensor([[2.0000, 7.0000],\n",
      "        [4.0000, 5.5000],\n",
      "        [4.6667, 5.3333]])\n"
     ]
    }
   ],
   "source": [
    "torch.manual_seed(42)\n",
    "a = torch.tril(torch.ones(3, 3))\n",
    "a = a / torch.sum(a, 1, keepdim=True)\n",
    "b = torch.randint(0, 10, (3, 2)).float()\n",
    "c = a @ b\n",
    "print(\"a=\")\n",
    "print(a)\n",
    "print(\"----\")\n",
    "print(\"b=\")\n",
    "print(b)\n",
    "print(\"----\")\n",
    "print(\"c=\")\n",
    "print(c)\n"
   ]
  },
  {
   "cell_type": "code",
   "execution_count": 41,
   "metadata": {},
   "outputs": [],
   "source": [
    "# version 2\n",
    "wei = torch.tril(torch.ones(T, T))\n",
    "wei = wei / wei.sum(1, keepdim=True)\n",
    "xbow2 = wei @ x  # (T, T) @ (B, T, C) -> (B, T, C)"
   ]
  },
  {
   "cell_type": "code",
   "execution_count": 43,
   "metadata": {},
   "outputs": [
    {
     "data": {
      "text/plain": [
       "tensor([[-1.2262, -0.0093],\n",
       "        [ 0.1579, -0.2375],\n",
       "        [ 0.1984, -0.2453],\n",
       "        [ 0.3045, -0.4730],\n",
       "        [ 0.2671, -0.7557],\n",
       "        [ 0.5862, -0.6619],\n",
       "        [ 0.5790, -0.6945],\n",
       "        [ 0.4679, -0.5109]])"
      ]
     },
     "execution_count": 43,
     "metadata": {},
     "output_type": "execute_result"
    }
   ],
   "source": [
    "xbow2[0]"
   ]
  },
  {
   "cell_type": "code",
   "execution_count": 44,
   "metadata": {},
   "outputs": [
    {
     "data": {
      "text/plain": [
       "True"
      ]
     },
     "execution_count": 44,
     "metadata": {},
     "output_type": "execute_result"
    }
   ],
   "source": [
    "torch.allclose(xbow, xbow2)"
   ]
  },
  {
   "cell_type": "code",
   "execution_count": 48,
   "metadata": {},
   "outputs": [
    {
     "ename": "NameError",
     "evalue": "name 'F' is not defined",
     "output_type": "error",
     "traceback": [
      "\u001b[0;31m---------------------------------------------------------------------------\u001b[0m",
      "\u001b[0;31mNameError\u001b[0m                                 Traceback (most recent call last)",
      "Cell \u001b[0;32mIn[48], line 5\u001b[0m\n\u001b[1;32m      3\u001b[0m wei \u001b[38;5;241m=\u001b[39m torch\u001b[38;5;241m.\u001b[39mzeros((T, T))\n\u001b[1;32m      4\u001b[0m wei \u001b[38;5;241m=\u001b[39m wei\u001b[38;5;241m.\u001b[39mmasked_fill(tril \u001b[38;5;241m==\u001b[39m \u001b[38;5;241m0\u001b[39m, \u001b[38;5;28mfloat\u001b[39m(\u001b[38;5;124m'\u001b[39m\u001b[38;5;124m-inf\u001b[39m\u001b[38;5;124m'\u001b[39m))\n\u001b[0;32m----> 5\u001b[0m wei \u001b[38;5;241m=\u001b[39m \u001b[43mF\u001b[49m\u001b[38;5;241m.\u001b[39msoftmax(wei, dim\u001b[38;5;241m=\u001b[39m\u001b[38;5;241m-\u001b[39m\u001b[38;5;241m1\u001b[39m)\n\u001b[1;32m      6\u001b[0m xbow3 \u001b[38;5;241m=\u001b[39m wei \u001b[38;5;241m@\u001b[39m x\n\u001b[1;32m      7\u001b[0m torch\u001b[38;5;241m.\u001b[39mallclose(xbow, xbow3)\n",
      "\u001b[0;31mNameError\u001b[0m: name 'F' is not defined"
     ]
    }
   ],
   "source": [
    "# version 3\n",
    "import torch.nn.functional as F\n",
    "tril = torch.tril(torch.ones(T, T))\n",
    "wei = torch.zeros((T, T))\n",
    "wei = wei.masked_fill(tril == 0, float('-inf'))\n",
    "wei = F.softmax(wei, dim=-1)\n",
    "xbow3 = wei @ x\n",
    "torch.allclose(xbow, xbow3)"
   ]
  },
  {
   "cell_type": "code",
   "execution_count": null,
   "metadata": {},
   "outputs": [],
   "source": []
  }
 ],
 "metadata": {
  "kernelspec": {
   "display_name": "Python 3",
   "language": "python",
   "name": "python3"
  },
  "language_info": {
   "codemirror_mode": {
    "name": "ipython",
    "version": 3
   },
   "file_extension": ".py",
   "mimetype": "text/x-python",
   "name": "python",
   "nbconvert_exporter": "python",
   "pygments_lexer": "ipython3",
   "version": "3.10.12"
  }
 },
 "nbformat": 4,
 "nbformat_minor": 2
}
