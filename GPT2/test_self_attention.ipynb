{
 "cells": [
  {
   "cell_type": "code",
   "execution_count": 15,
   "metadata": {},
   "outputs": [
    {
     "data": {
      "text/plain": [
       "tensor([[[-1.2262, -0.0093],\n",
       "         [ 1.5420, -0.4657],\n",
       "         [ 0.2795, -0.2610],\n",
       "         [ 0.6230, -1.1561],\n",
       "         [ 0.1171, -1.8865],\n",
       "         [ 2.1822, -0.1930],\n",
       "         [ 0.5358, -0.8898],\n",
       "         [-0.3099,  0.7741]],\n",
       "\n",
       "        [[ 0.1236, -2.1807],\n",
       "         [ 0.3700,  0.4144],\n",
       "         [ 1.8567,  1.9776],\n",
       "         [-0.4322,  1.3667],\n",
       "         [ 0.8432, -0.0421],\n",
       "         [ 1.6579, -1.3085],\n",
       "         [ 0.9962,  0.9391],\n",
       "         [ 1.4148,  0.6343]],\n",
       "\n",
       "        [[ 2.7266, -1.4753],\n",
       "         [-1.4808,  0.0498],\n",
       "         [ 1.2883, -0.6491],\n",
       "         [-0.8969,  1.2634],\n",
       "         [ 0.8273,  0.4594],\n",
       "         [ 0.3922, -1.0767],\n",
       "         [-0.0576, -0.0596],\n",
       "         [ 0.2764, -0.2403]],\n",
       "\n",
       "        [[ 0.7203, -1.4108],\n",
       "         [-0.4384,  0.3551],\n",
       "         [ 0.3730, -1.3050],\n",
       "         [-0.7983,  1.0442],\n",
       "         [-0.1227,  0.4022],\n",
       "         [-1.4295, -0.5656],\n",
       "         [ 0.6971,  0.1258],\n",
       "         [-0.0434,  0.5366]]])"
      ]
     },
     "execution_count": 15,
     "metadata": {},
     "output_type": "execute_result"
    }
   ],
   "source": [
    "import torch\n",
    "\n",
    "torch.manual_seed(2024)\n",
    "B, T, C = 4, 8, 2  # Batch size, sequence length (or time), embedding size (or channels)\n",
    "x = torch.randn(B, T, C)\n",
    "x"
   ]
  },
  {
   "cell_type": "code",
   "execution_count": 45,
   "metadata": {},
   "outputs": [
    {
     "data": {
      "text/plain": [
       "tensor([[-1.2262, -0.0093],\n",
       "        [ 1.5420, -0.4657],\n",
       "        [ 0.2795, -0.2610],\n",
       "        [ 0.6230, -1.1561],\n",
       "        [ 0.1171, -1.8865],\n",
       "        [ 2.1822, -0.1930],\n",
       "        [ 0.5358, -0.8898],\n",
       "        [-0.3099,  0.7741]])"
      ]
     },
     "execution_count": 45,
     "metadata": {},
     "output_type": "execute_result"
    }
   ],
   "source": [
    "# version 1\n",
    "xbow = torch.zeros((B, T, C))\n",
    "for b in range(B):\n",
    "    for t in range(T):\n",
    "        xprev = x[b,:t+1]  # (t, C)\n",
    "        xbow[b, t] = torch.mean(xprev, 0)  # (2)\n",
    "\n",
    "x[0]"
   ]
  },
  {
   "cell_type": "code",
   "execution_count": 26,
   "metadata": {},
   "outputs": [
    {
     "data": {
      "text/plain": [
       "tensor([[-1.2262, -0.0093],\n",
       "        [ 0.1579, -0.2375],\n",
       "        [ 0.1984, -0.2453],\n",
       "        [ 0.3045, -0.4730],\n",
       "        [ 0.2671, -0.7557],\n",
       "        [ 0.5862, -0.6619],\n",
       "        [ 0.5790, -0.6945],\n",
       "        [ 0.4679, -0.5109]])"
      ]
     },
     "execution_count": 26,
     "metadata": {},
     "output_type": "execute_result"
    }
   ],
   "source": [
    "xbow[0]"
   ]
  },
  {
   "cell_type": "code",
   "execution_count": 30,
   "metadata": {},
   "outputs": [
    {
     "name": "stdout",
     "output_type": "stream",
     "text": [
      "a=\n",
      "tensor([[1., 1., 1.],\n",
      "        [1., 1., 1.],\n",
      "        [1., 1., 1.]])\n",
      "----\n",
      "b=\n",
      "tensor([[2., 7.],\n",
      "        [6., 4.],\n",
      "        [6., 5.]])\n",
      "----\n",
      "c=\n",
      "tensor([[14., 16.],\n",
      "        [14., 16.],\n",
      "        [14., 16.]])\n"
     ]
    }
   ],
   "source": [
    "torch.manual_seed(42)\n",
    "a = torch.ones(3, 3)\n",
    "b = torch.randint(0, 10, (3, 2)).float()\n",
    "c = a @ b\n",
    "print(\"a=\")\n",
    "print(a)\n",
    "print(\"----\")\n",
    "print(\"b=\")\n",
    "print(b)\n",
    "print(\"----\")\n",
    "print(\"c=\")\n",
    "print(c)"
   ]
  },
  {
   "cell_type": "code",
   "execution_count": 31,
   "metadata": {},
   "outputs": [
    {
     "name": "stdout",
     "output_type": "stream",
     "text": [
      "a=\n",
      "tensor([[1., 0., 0.],\n",
      "        [1., 1., 0.],\n",
      "        [1., 1., 1.]])\n",
      "----\n",
      "b=\n",
      "tensor([[2., 7.],\n",
      "        [6., 4.],\n",
      "        [6., 5.]])\n",
      "----\n",
      "c=\n",
      "tensor([[ 2.,  7.],\n",
      "        [ 8., 11.],\n",
      "        [14., 16.]])\n"
     ]
    }
   ],
   "source": [
    "torch.manual_seed(42)\n",
    "a = torch.tril(torch.ones(3, 3))\n",
    "b = torch.randint(0, 10, (3, 2)).float()\n",
    "c = a @ b\n",
    "print(\"a=\")\n",
    "print(a)\n",
    "print(\"----\")\n",
    "print(\"b=\")\n",
    "print(b)\n",
    "print(\"----\")\n",
    "print(\"c=\")\n",
    "print(c)"
   ]
  },
  {
   "cell_type": "code",
   "execution_count": 37,
   "metadata": {},
   "outputs": [
    {
     "name": "stdout",
     "output_type": "stream",
     "text": [
      "a=\n",
      "tensor([[1.0000, 0.0000, 0.0000],\n",
      "        [0.5000, 0.5000, 0.0000],\n",
      "        [0.3333, 0.3333, 0.3333]])\n",
      "----\n",
      "b=\n",
      "tensor([[2., 7.],\n",
      "        [6., 4.],\n",
      "        [6., 5.]])\n",
      "----\n",
      "c=\n",
      "tensor([[2.0000, 7.0000],\n",
      "        [4.0000, 5.5000],\n",
      "        [4.6667, 5.3333]])\n"
     ]
    }
   ],
   "source": [
    "torch.manual_seed(42)\n",
    "a = torch.tril(torch.ones(3, 3))\n",
    "a = a / torch.sum(a, 1, keepdim=True)\n",
    "b = torch.randint(0, 10, (3, 2)).float()\n",
    "c = a @ b\n",
    "print(\"a=\")\n",
    "print(a)\n",
    "print(\"----\")\n",
    "print(\"b=\")\n",
    "print(b)\n",
    "print(\"----\")\n",
    "print(\"c=\")\n",
    "print(c)\n"
   ]
  },
  {
   "cell_type": "code",
   "execution_count": 41,
   "metadata": {},
   "outputs": [],
   "source": [
    "# version 2\n",
    "wei = torch.tril(torch.ones(T, T))\n",
    "wei = wei / wei.sum(1, keepdim=True)\n",
    "xbow2 = wei @ x  # (T, T) @ (B, T, C) -> (B, T, C)"
   ]
  },
  {
   "cell_type": "code",
   "execution_count": 43,
   "metadata": {},
   "outputs": [
    {
     "data": {
      "text/plain": [
       "tensor([[-1.2262, -0.0093],\n",
       "        [ 0.1579, -0.2375],\n",
       "        [ 0.1984, -0.2453],\n",
       "        [ 0.3045, -0.4730],\n",
       "        [ 0.2671, -0.7557],\n",
       "        [ 0.5862, -0.6619],\n",
       "        [ 0.5790, -0.6945],\n",
       "        [ 0.4679, -0.5109]])"
      ]
     },
     "execution_count": 43,
     "metadata": {},
     "output_type": "execute_result"
    }
   ],
   "source": [
    "xbow2[0]"
   ]
  },
  {
   "cell_type": "code",
   "execution_count": 44,
   "metadata": {},
   "outputs": [
    {
     "data": {
      "text/plain": [
       "True"
      ]
     },
     "execution_count": 44,
     "metadata": {},
     "output_type": "execute_result"
    }
   ],
   "source": [
    "torch.allclose(xbow, xbow2)"
   ]
  },
  {
   "cell_type": "code",
   "execution_count": 49,
   "metadata": {},
   "outputs": [
    {
     "data": {
      "text/plain": [
       "True"
      ]
     },
     "execution_count": 49,
     "metadata": {},
     "output_type": "execute_result"
    }
   ],
   "source": [
    "# version 3\n",
    "import torch.nn.functional as F\n",
    "tril = torch.tril(torch.ones(T, T))\n",
    "wei = torch.zeros((T, T))\n",
    "wei = wei.masked_fill(tril == 0, float('-inf'))\n",
    "wei = F.softmax(wei, dim=-1)\n",
    "xbow3 = wei @ x\n",
    "torch.allclose(xbow, xbow3)"
   ]
  },
  {
   "cell_type": "code",
   "execution_count": 50,
   "metadata": {},
   "outputs": [
    {
     "data": {
      "text/plain": [
       "tensor([[1.0000, 0.0000, 0.0000, 0.0000, 0.0000, 0.0000, 0.0000, 0.0000],\n",
       "        [0.5000, 0.5000, 0.0000, 0.0000, 0.0000, 0.0000, 0.0000, 0.0000],\n",
       "        [0.3333, 0.3333, 0.3333, 0.0000, 0.0000, 0.0000, 0.0000, 0.0000],\n",
       "        [0.2500, 0.2500, 0.2500, 0.2500, 0.0000, 0.0000, 0.0000, 0.0000],\n",
       "        [0.2000, 0.2000, 0.2000, 0.2000, 0.2000, 0.0000, 0.0000, 0.0000],\n",
       "        [0.1667, 0.1667, 0.1667, 0.1667, 0.1667, 0.1667, 0.0000, 0.0000],\n",
       "        [0.1429, 0.1429, 0.1429, 0.1429, 0.1429, 0.1429, 0.1429, 0.0000],\n",
       "        [0.1250, 0.1250, 0.1250, 0.1250, 0.1250, 0.1250, 0.1250, 0.1250]])"
      ]
     },
     "execution_count": 50,
     "metadata": {},
     "output_type": "execute_result"
    }
   ],
   "source": [
    "wei"
   ]
  },
  {
   "cell_type": "code",
   "execution_count": 11,
   "metadata": {},
   "outputs": [],
   "source": [
    "# version 4: self-attention\n",
    "import torch\n",
    "import torch.nn as nn\n",
    "import torch.nn.functional as F\n",
    "torch.manual_seed(1337)\n",
    "B, T, C = 4, 8, 32  # batch size, sequence length, channels\n",
    "x = torch.randn(B, T, C)\n",
    "\n",
    "head_size = 16\n",
    "key = nn.Linear(C, head_size, bias=False)\n",
    "query = nn.Linear(C, head_size, bias=False)\n",
    "k = key(x)  # (B, T, head_size) -> (B, T, 16)\n",
    "q = query(x)  # (B, T, head_size) -> (B, T, 16)\n",
    "wei = q @ k.transpose(-2, -1)  # (B, T, head_size) @ (B, head_size, T) -> (B, T, T)\n",
    "\n",
    "tril = torch.tril(torch.ones(T, T))\n",
    "wei = wei.masked_fill(tril==0, float('-inf'))\n",
    "wei = F.softmax(wei, dim=-1)\n",
    "out = wei @ x"
   ]
  },
  {
   "cell_type": "code",
   "execution_count": 12,
   "metadata": {},
   "outputs": [
    {
     "data": {
      "text/plain": [
       "tensor([[[-1.7629e+00,        -inf,        -inf,        -inf,        -inf,\n",
       "                 -inf,        -inf,        -inf],\n",
       "         [-3.3334e+00, -1.6556e+00,        -inf,        -inf,        -inf,\n",
       "                 -inf,        -inf,        -inf],\n",
       "         [-1.0226e+00, -1.2606e+00,  7.6228e-02,        -inf,        -inf,\n",
       "                 -inf,        -inf,        -inf],\n",
       "         [ 7.8359e-01, -8.0143e-01, -3.3680e-01, -8.4963e-01,        -inf,\n",
       "                 -inf,        -inf,        -inf],\n",
       "         [-1.2566e+00,  1.8719e-02, -7.8797e-01, -1.3204e+00,  2.0363e+00,\n",
       "                 -inf,        -inf,        -inf],\n",
       "         [-3.1262e-01,  2.4152e+00, -1.1058e-01, -9.9305e-01,  3.3449e+00,\n",
       "          -2.5229e+00,        -inf,        -inf],\n",
       "         [ 1.0876e+00,  1.9652e+00, -2.6213e-01, -3.1579e-01,  6.0905e-01,\n",
       "           1.2616e+00, -5.4841e-01,        -inf],\n",
       "         [-1.8044e+00, -4.1260e-01, -8.3061e-01,  5.8985e-01, -7.9869e-01,\n",
       "          -5.8560e-01,  6.4332e-01,  6.3028e-01]],\n",
       "\n",
       "        [[-7.3529e-01,        -inf,        -inf,        -inf,        -inf,\n",
       "                 -inf,        -inf,        -inf],\n",
       "         [-3.0892e+00, -1.4943e+00,        -inf,        -inf,        -inf,\n",
       "                 -inf,        -inf,        -inf],\n",
       "         [-5.0206e-01, -2.0745e+00,  5.3785e-01,        -inf,        -inf,\n",
       "                 -inf,        -inf,        -inf],\n",
       "         [ 1.3810e+00, -1.4713e-01,  1.2181e+00, -2.2266e-01,        -inf,\n",
       "                 -inf,        -inf,        -inf],\n",
       "         [-2.3568e+00, -4.6170e-01, -8.8196e-01,  2.3700e+00,  6.7828e-01,\n",
       "                 -inf,        -inf,        -inf],\n",
       "         [-9.2435e-01, -6.2351e-01, -1.3938e+00,  1.3336e+00, -8.9731e-03,\n",
       "          -3.1789e+00,        -inf,        -inf],\n",
       "         [-6.5522e-01,  1.0991e+00, -2.1399e+00,  9.6468e-01,  9.9463e-01,\n",
       "           9.3899e-01,  4.6799e-01,        -inf],\n",
       "         [ 1.5463e+00, -4.9438e-01, -1.4180e-02, -9.7428e-01,  1.3779e+00,\n",
       "           7.8651e-03, -5.3590e-01, -4.5531e-01]],\n",
       "\n",
       "        [[-3.7898e-01,        -inf,        -inf,        -inf,        -inf,\n",
       "                 -inf,        -inf,        -inf],\n",
       "         [ 1.0377e-01,  1.7584e-01,        -inf,        -inf,        -inf,\n",
       "                 -inf,        -inf,        -inf],\n",
       "         [-1.6373e+00, -6.5557e-01, -8.5031e-01,        -inf,        -inf,\n",
       "                 -inf,        -inf,        -inf],\n",
       "         [-2.7155e+00,  1.9022e+00, -8.4620e-01,  5.9058e-01,        -inf,\n",
       "                 -inf,        -inf,        -inf],\n",
       "         [ 2.5044e+00, -4.9691e-01, -2.6300e-01, -1.6288e-01, -1.7459e+00,\n",
       "                 -inf,        -inf,        -inf],\n",
       "         [-4.8634e-02,  4.9620e-01, -2.0859e-01, -8.4632e-02,  3.6811e-01,\n",
       "           7.8713e-01,        -inf,        -inf],\n",
       "         [-1.7485e+00,  4.6233e-01,  3.8653e-03,  2.1114e+00,  1.2731e+00,\n",
       "           2.1582e+00,  1.3125e+00,        -inf],\n",
       "         [-8.5500e-02, -1.5413e-02, -1.3915e+00,  6.3086e-02, -2.4530e-01,\n",
       "          -2.0677e-01, -2.2102e+00,  4.4531e-01]],\n",
       "\n",
       "        [[ 4.5165e-01,        -inf,        -inf,        -inf,        -inf,\n",
       "                 -inf,        -inf,        -inf],\n",
       "         [-4.0009e-01, -9.6205e-01,        -inf,        -inf,        -inf,\n",
       "                 -inf,        -inf,        -inf],\n",
       "         [-4.6199e-01,  5.8600e-01, -4.6738e+00,        -inf,        -inf,\n",
       "                 -inf,        -inf,        -inf],\n",
       "         [-7.1746e-01, -1.0279e+00, -2.0509e+00, -2.7234e+00,        -inf,\n",
       "                 -inf,        -inf,        -inf],\n",
       "         [-4.0388e-01,  5.1597e-01, -2.0697e+00, -4.0982e-01, -8.0534e-01,\n",
       "                 -inf,        -inf,        -inf],\n",
       "         [ 8.2322e-01,  3.0237e+00, -3.0655e+00,  7.0404e-01,  6.7207e-01,\n",
       "          -4.6692e-01,        -inf,        -inf],\n",
       "         [-1.4141e+00, -1.4241e+00, -8.0387e-01, -1.7450e+00, -7.4035e-01,\n",
       "           9.8188e-01, -9.0056e-01,        -inf],\n",
       "         [-5.0277e-01,  1.6844e+00, -4.1847e-01,  1.0239e+00,  1.0275e+00,\n",
       "           1.3980e-01,  4.8822e-01,  1.5573e+00]]],\n",
       "       grad_fn=<MaskedFillBackward0>)"
      ]
     },
     "execution_count": 12,
     "metadata": {},
     "output_type": "execute_result"
    }
   ],
   "source": [
    "wei"
   ]
  },
  {
   "cell_type": "code",
   "execution_count": 13,
   "metadata": {},
   "outputs": [
    {
     "data": {
      "text/plain": [
       "tensor([[-1.7629,    -inf,    -inf,    -inf,    -inf,    -inf,    -inf,    -inf],\n",
       "        [-3.3334, -1.6556,    -inf,    -inf,    -inf,    -inf,    -inf,    -inf],\n",
       "        [-1.0226, -1.2606,  0.0762,    -inf,    -inf,    -inf,    -inf,    -inf],\n",
       "        [ 0.7836, -0.8014, -0.3368, -0.8496,    -inf,    -inf,    -inf,    -inf],\n",
       "        [-1.2566,  0.0187, -0.7880, -1.3204,  2.0363,    -inf,    -inf,    -inf],\n",
       "        [-0.3126,  2.4152, -0.1106, -0.9931,  3.3449, -2.5229,    -inf,    -inf],\n",
       "        [ 1.0876,  1.9652, -0.2621, -0.3158,  0.6091,  1.2616, -0.5484,    -inf],\n",
       "        [-1.8044, -0.4126, -0.8306,  0.5898, -0.7987, -0.5856,  0.6433,  0.6303]],\n",
       "       grad_fn=<SelectBackward0>)"
      ]
     },
     "execution_count": 13,
     "metadata": {},
     "output_type": "execute_result"
    }
   ],
   "source": [
    "wei[0]"
   ]
  },
  {
   "cell_type": "code",
   "execution_count": 21,
   "metadata": {},
   "outputs": [
    {
     "data": {
      "text/plain": [
       "torch.Size([4, 8, 32])"
      ]
     },
     "execution_count": 21,
     "metadata": {},
     "output_type": "execute_result"
    }
   ],
   "source": [
    "out.shape"
   ]
  },
  {
   "cell_type": "code",
   "execution_count": null,
   "metadata": {},
   "outputs": [],
   "source": [
    "# Illustrate scaled(unit variance)\n",
    "k = torch.randn(B, T, head_size)\n",
    "q = torch.randn(B, T, head_size)\n",
    "wei = q @ k.transpose(-2, -1)"
   ]
  }
 ],
 "metadata": {
  "kernelspec": {
   "display_name": "Python 3",
   "language": "python",
   "name": "python3"
  },
  "language_info": {
   "codemirror_mode": {
    "name": "ipython",
    "version": 3
   },
   "file_extension": ".py",
   "mimetype": "text/x-python",
   "name": "python",
   "nbconvert_exporter": "python",
   "pygments_lexer": "ipython3",
   "version": "3.10.12"
  }
 },
 "nbformat": 4,
 "nbformat_minor": 2
}
